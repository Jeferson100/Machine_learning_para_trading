{
 "cells": [
  {
   "cell_type": "markdown",
   "id": "8d2ae27b",
   "metadata": {
    "id": "8d2ae27b"
   },
   "source": [
    "# [Tutorial](https://github.com/AI4Finance-Foundation/FinRL-Tutorials/blob/master/1-Introduction/Stock_NeurIPS2018/Stock_NeurIPS2018_2_Train.ipynb)"
   ]
  },
  {
   "cell_type": "markdown",
   "id": "8f358edd",
   "metadata": {
    "id": "8f358edd"
   },
   "source": [
    "# 1.Importando as bibliotecas"
   ]
  },
  {
   "cell_type": "code",
   "execution_count": null,
   "id": "avbjnxtoGT7w",
   "metadata": {
    "id": "avbjnxtoGT7w"
   },
   "outputs": [],
   "source": [
    "#!python --version"
   ]
  },
  {
   "cell_type": "code",
   "execution_count": null,
   "id": "e_XzupbZEGVy",
   "metadata": {
    "id": "e_XzupbZEGVy"
   },
   "outputs": [],
   "source": [
    "#!pip list > pacotes_instalados_colab.txt"
   ]
  },
  {
   "cell_type": "code",
   "execution_count": null,
   "id": "24a3a1ae",
   "metadata": {
    "colab": {
     "base_uri": "https://localhost:8080/"
    },
    "executionInfo": {
     "elapsed": 150003,
     "status": "ok",
     "timestamp": 1701692107614,
     "user": {
      "displayName": "jeferson sehnem",
      "userId": "11783029651982993074"
     },
     "user_tz": 180
    },
    "id": "24a3a1ae",
    "outputId": "afcad37a-9602-440b-9260-c21cdf8e12db"
   },
   "outputs": [
    {
     "name": "stdout",
     "output_type": "stream",
     "text": [
      "Mounted at /content/drive\n"
     ]
    }
   ],
   "source": [
    "from google.colab import drive\n",
    "drive.mount('/content/drive')"
   ]
  },
  {
   "cell_type": "code",
   "execution_count": null,
   "id": "b4f4725c",
   "metadata": {
    "colab": {
     "base_uri": "https://localhost:8080/"
    },
    "executionInfo": {
     "elapsed": 237080,
     "status": "ok",
     "timestamp": 1701692344676,
     "user": {
      "displayName": "jeferson sehnem",
      "userId": "11783029651982993074"
     },
     "user_tz": 180
    },
    "id": "b4f4725c",
    "outputId": "ddc1b616-8532-49de-97d7-2e3528623af1"
   },
   "outputs": [
    {
     "data": {
      "text/plain": [
       "'!pip install swig\\n!pip install wrds\\n!pip install pyportfolioopt\\n## install finrl library\\n!pip install git+https://github.com/AI4Finance-Foundation/FinRL.git'"
      ]
     },
     "execution_count": 1,
     "metadata": {},
     "output_type": "execute_result"
    }
   ],
   "source": [
    "## install required packages\n",
    "\"\"\"!pip install swig\n",
    "!pip install wrds\n",
    "!pip install pyportfolioopt\n",
    "## install finrl library\n",
    "!pip install git+https://github.com/AI4Finance-Foundation/FinRL.git\"\"\""
   ]
  },
  {
   "cell_type": "code",
   "execution_count": null,
   "id": "bd440259",
   "metadata": {
    "id": "bd440259"
   },
   "outputs": [],
   "source": [
    "import os\n",
    "import pandas as pd\n",
    "\n",
    "from finrl.meta.env_stock_trading.env_stocktrading import StockTradingEnv\n",
    "from finrl.agents.stablebaselines3.models import DRLAgent\n",
    "from stable_baselines3.common.logger import configure\n",
    "from finrl import config_tickers\n",
    "from finrl.main import check_and_make_directories\n",
    "from finrl.config import INDICATORS, TRAINED_MODEL_DIR, RESULTS_DIR\n",
    "\n",
    "## Cria o diretorio TRAINED_MODEL_DIR\n",
    "check_and_make_directories([TRAINED_MODEL_DIR])"
   ]
  },
  {
   "cell_type": "code",
   "execution_count": null,
   "id": "15793376",
   "metadata": {
    "id": "15793376"
   },
   "outputs": [],
   "source": [
    "import time"
   ]
  },
  {
   "cell_type": "markdown",
   "id": "980d7440",
   "metadata": {
    "id": "980d7440"
   },
   "source": [
    "# 2.Importando os dados\n",
    "\n",
    "Os dados importados são do primeiro notebook [data_YahooDownloader.ipynb](Documents/Aprendizado_reforco_trading/Finrl/FinRL_testes/data_YahooDownloader.ipynb)"
   ]
  },
  {
   "cell_type": "code",
   "execution_count": null,
   "id": "04816ea3",
   "metadata": {
    "id": "04816ea3"
   },
   "outputs": [],
   "source": [
    "try:\n",
    "  treino = pd.read_csv('train_data_ibovespa.csv')\n",
    "  treino = treino.set_index(treino.columns[0])\n",
    "  treino.index.names = ['']\n",
    "except:\n",
    "  treino = pd.read_csv('/content/drive/Othercomputers/Meu laptop/Aprendizado_reforco_trading/Finrl/FinRL_testes/trade_data_ibovespa.csv')\n",
    "  treino = treino.set_index(treino.columns[0])\n",
    "  treino.index.names = ['']\n"
   ]
  },
  {
   "cell_type": "code",
   "execution_count": null,
   "id": "m-4A3NSLfXNo",
   "metadata": {
    "colab": {
     "base_uri": "https://localhost:8080/"
    },
    "executionInfo": {
     "elapsed": 474,
     "status": "ok",
     "timestamp": 1701692368975,
     "user": {
      "displayName": "jeferson sehnem",
      "userId": "11783029651982993074"
     },
     "user_tz": 180
    },
    "id": "m-4A3NSLfXNo",
    "outputId": "12ac72a5-09b7-4d93-c264-4dcb4c419244"
   },
   "outputs": [
    {
     "name": "stdout",
     "output_type": "stream",
     "text": [
      "<class 'pandas.core.frame.DataFrame'>\n",
      "Index: 113760 entries, 0 to 2527\n",
      "Data columns (total 18 columns):\n",
      " #   Column        Non-Null Count   Dtype  \n",
      "---  ------        --------------   -----  \n",
      " 0   date          113760 non-null  object \n",
      " 1   tic           113760 non-null  object \n",
      " 2   open          113760 non-null  float64\n",
      " 3   high          113760 non-null  float64\n",
      " 4   low           113760 non-null  float64\n",
      " 5   close         113760 non-null  float64\n",
      " 6   volume        113760 non-null  float64\n",
      " 7   day           113760 non-null  float64\n",
      " 8   macd          113760 non-null  float64\n",
      " 9   boll_ub       113760 non-null  float64\n",
      " 10  boll_lb       113760 non-null  float64\n",
      " 11  rsi_30        113760 non-null  float64\n",
      " 12  cci_30        113760 non-null  float64\n",
      " 13  dx_30         113760 non-null  float64\n",
      " 14  close_30_sma  113760 non-null  float64\n",
      " 15  close_60_sma  113760 non-null  float64\n",
      " 16  vix           113760 non-null  float64\n",
      " 17  turbulence    113760 non-null  float64\n",
      "dtypes: float64(16), object(2)\n",
      "memory usage: 16.5+ MB\n"
     ]
    }
   ],
   "source": [
    "treino.info()"
   ]
  },
  {
   "cell_type": "code",
   "execution_count": null,
   "id": "6fe13ad3",
   "metadata": {
    "colab": {
     "base_uri": "https://localhost:8080/",
     "height": 277
    },
    "executionInfo": {
     "elapsed": 26,
     "status": "ok",
     "timestamp": 1701692368976,
     "user": {
      "displayName": "jeferson sehnem",
      "userId": "11783029651982993074"
     },
     "user_tz": 180
    },
    "id": "6fe13ad3",
    "outputId": "99e3da96-204d-453a-ea8a-1639054dbfb5"
   },
   "outputs": [
    {
     "data": {
      "text/html": [
       "<div>\n",
       "<style scoped>\n",
       "    .dataframe tbody tr th:only-of-type {\n",
       "        vertical-align: middle;\n",
       "    }\n",
       "\n",
       "    .dataframe tbody tr th {\n",
       "        vertical-align: top;\n",
       "    }\n",
       "\n",
       "    .dataframe thead th {\n",
       "        text-align: right;\n",
       "    }\n",
       "</style>\n",
       "<table border=\"1\" class=\"dataframe\">\n",
       "  <thead>\n",
       "    <tr style=\"text-align: right;\">\n",
       "      <th></th>\n",
       "      <th>date</th>\n",
       "      <th>tic</th>\n",
       "      <th>open</th>\n",
       "      <th>high</th>\n",
       "      <th>low</th>\n",
       "      <th>close</th>\n",
       "      <th>volume</th>\n",
       "      <th>day</th>\n",
       "      <th>macd</th>\n",
       "      <th>boll_ub</th>\n",
       "      <th>boll_lb</th>\n",
       "      <th>rsi_30</th>\n",
       "      <th>cci_30</th>\n",
       "      <th>dx_30</th>\n",
       "      <th>close_30_sma</th>\n",
       "      <th>close_60_sma</th>\n",
       "      <th>vix</th>\n",
       "      <th>turbulence</th>\n",
       "    </tr>\n",
       "    <tr>\n",
       "      <th></th>\n",
       "      <th></th>\n",
       "      <th></th>\n",
       "      <th></th>\n",
       "      <th></th>\n",
       "      <th></th>\n",
       "      <th></th>\n",
       "      <th></th>\n",
       "      <th></th>\n",
       "      <th></th>\n",
       "      <th></th>\n",
       "      <th></th>\n",
       "      <th></th>\n",
       "      <th></th>\n",
       "      <th></th>\n",
       "      <th></th>\n",
       "      <th></th>\n",
       "      <th></th>\n",
       "      <th></th>\n",
       "    </tr>\n",
       "  </thead>\n",
       "  <tbody>\n",
       "    <tr>\n",
       "      <th>0</th>\n",
       "      <td>2009-01-02</td>\n",
       "      <td>ABEV3.SA</td>\n",
       "      <td>3.333858</td>\n",
       "      <td>3.556008</td>\n",
       "      <td>3.333858</td>\n",
       "      <td>2.150698</td>\n",
       "      <td>590662.0</td>\n",
       "      <td>4.0</td>\n",
       "      <td>0.0</td>\n",
       "      <td>2.216974</td>\n",
       "      <td>2.011928</td>\n",
       "      <td>0.0</td>\n",
       "      <td>66.666667</td>\n",
       "      <td>100.0</td>\n",
       "      <td>2.150698</td>\n",
       "      <td>2.150698</td>\n",
       "      <td>39.189999</td>\n",
       "      <td>0.0</td>\n",
       "    </tr>\n",
       "    <tr>\n",
       "      <th>0</th>\n",
       "      <td>2009-01-02</td>\n",
       "      <td>BBAS3.SA</td>\n",
       "      <td>14.680000</td>\n",
       "      <td>15.250000</td>\n",
       "      <td>14.600000</td>\n",
       "      <td>5.934311</td>\n",
       "      <td>2801600.0</td>\n",
       "      <td>4.0</td>\n",
       "      <td>0.0</td>\n",
       "      <td>2.216974</td>\n",
       "      <td>2.011928</td>\n",
       "      <td>0.0</td>\n",
       "      <td>66.666667</td>\n",
       "      <td>100.0</td>\n",
       "      <td>5.934311</td>\n",
       "      <td>5.934311</td>\n",
       "      <td>39.189999</td>\n",
       "      <td>0.0</td>\n",
       "    </tr>\n",
       "    <tr>\n",
       "      <th>0</th>\n",
       "      <td>2009-01-02</td>\n",
       "      <td>BBDC3.SA</td>\n",
       "      <td>5.856117</td>\n",
       "      <td>6.178203</td>\n",
       "      <td>5.738994</td>\n",
       "      <td>3.445034</td>\n",
       "      <td>616107.0</td>\n",
       "      <td>4.0</td>\n",
       "      <td>0.0</td>\n",
       "      <td>2.216974</td>\n",
       "      <td>2.011928</td>\n",
       "      <td>0.0</td>\n",
       "      <td>66.666667</td>\n",
       "      <td>100.0</td>\n",
       "      <td>3.445034</td>\n",
       "      <td>3.445034</td>\n",
       "      <td>39.189999</td>\n",
       "      <td>0.0</td>\n",
       "    </tr>\n",
       "    <tr>\n",
       "      <th>0</th>\n",
       "      <td>2009-01-02</td>\n",
       "      <td>BBDC4.SA</td>\n",
       "      <td>14.166245</td>\n",
       "      <td>14.166245</td>\n",
       "      <td>14.166245</td>\n",
       "      <td>7.943635</td>\n",
       "      <td>0.0</td>\n",
       "      <td>4.0</td>\n",
       "      <td>0.0</td>\n",
       "      <td>2.216974</td>\n",
       "      <td>2.011928</td>\n",
       "      <td>0.0</td>\n",
       "      <td>66.666667</td>\n",
       "      <td>100.0</td>\n",
       "      <td>7.943635</td>\n",
       "      <td>7.943635</td>\n",
       "      <td>39.189999</td>\n",
       "      <td>0.0</td>\n",
       "    </tr>\n",
       "    <tr>\n",
       "      <th>0</th>\n",
       "      <td>2009-01-02</td>\n",
       "      <td>BEEF3.SA</td>\n",
       "      <td>1.858427</td>\n",
       "      <td>2.015754</td>\n",
       "      <td>1.819095</td>\n",
       "      <td>1.486063</td>\n",
       "      <td>230958.0</td>\n",
       "      <td>4.0</td>\n",
       "      <td>0.0</td>\n",
       "      <td>2.216974</td>\n",
       "      <td>2.011928</td>\n",
       "      <td>0.0</td>\n",
       "      <td>66.666667</td>\n",
       "      <td>100.0</td>\n",
       "      <td>1.486063</td>\n",
       "      <td>1.486063</td>\n",
       "      <td>39.189999</td>\n",
       "      <td>0.0</td>\n",
       "    </tr>\n",
       "  </tbody>\n",
       "</table>\n",
       "</div>"
      ],
      "text/plain": [
       "         date       tic       open       high        low     close     volume  \\\n",
       "                                                                                \n",
       "0  2009-01-02  ABEV3.SA   3.333858   3.556008   3.333858  2.150698   590662.0   \n",
       "0  2009-01-02  BBAS3.SA  14.680000  15.250000  14.600000  5.934311  2801600.0   \n",
       "0  2009-01-02  BBDC3.SA   5.856117   6.178203   5.738994  3.445034   616107.0   \n",
       "0  2009-01-02  BBDC4.SA  14.166245  14.166245  14.166245  7.943635        0.0   \n",
       "0  2009-01-02  BEEF3.SA   1.858427   2.015754   1.819095  1.486063   230958.0   \n",
       "\n",
       "   day  macd   boll_ub   boll_lb  rsi_30     cci_30  dx_30  close_30_sma  \\\n",
       "                                                                           \n",
       "0  4.0   0.0  2.216974  2.011928     0.0  66.666667  100.0      2.150698   \n",
       "0  4.0   0.0  2.216974  2.011928     0.0  66.666667  100.0      5.934311   \n",
       "0  4.0   0.0  2.216974  2.011928     0.0  66.666667  100.0      3.445034   \n",
       "0  4.0   0.0  2.216974  2.011928     0.0  66.666667  100.0      7.943635   \n",
       "0  4.0   0.0  2.216974  2.011928     0.0  66.666667  100.0      1.486063   \n",
       "\n",
       "   close_60_sma        vix  turbulence  \n",
       "                                        \n",
       "0      2.150698  39.189999         0.0  \n",
       "0      5.934311  39.189999         0.0  \n",
       "0      3.445034  39.189999         0.0  \n",
       "0      7.943635  39.189999         0.0  \n",
       "0      1.486063  39.189999         0.0  "
      ]
     },
     "execution_count": 6,
     "metadata": {},
     "output_type": "execute_result"
    }
   ],
   "source": [
    "treino.head()"
   ]
  },
  {
   "cell_type": "markdown",
   "id": "4265b5da",
   "metadata": {
    "id": "4265b5da"
   },
   "source": [
    "# 3.Criando o ambiente\n",
    "\n",
    "O [ambiente](https://github.com/AI4Finance-Foundation/FinRL/blob/master/finrl/meta/env_stock_trading/env_stocktrading.py) de negociação de ações criado para ser utilizado com a biblioteca OpenAI Gym"
   ]
  },
  {
   "cell_type": "code",
   "execution_count": null,
   "id": "ac75f4bf",
   "metadata": {
    "colab": {
     "base_uri": "https://localhost:8080/"
    },
    "executionInfo": {
     "elapsed": 19,
     "status": "ok",
     "timestamp": 1701692368976,
     "user": {
      "displayName": "jeferson sehnem",
      "userId": "11783029651982993074"
     },
     "user_tz": 180
    },
    "id": "ac75f4bf",
    "outputId": "8aff57ee-33cd-4c65-edd5-ac528d0b7dfa"
   },
   "outputs": [
    {
     "name": "stderr",
     "output_type": "stream",
     "text": [
      "/usr/local/lib/python3.10/dist-packages/ipykernel/ipkernel.py:283: DeprecationWarning: `should_run_async` will not call `transform_cell` automatically in the future. Please pass the result to `transformed_cell` argument and any exception that happen during thetransform in `preprocessing_exc_tuple` in IPython 7.17 and above.\n",
      "  and should_run_async(code)\n"
     ]
    }
   ],
   "source": [
    "valor_inicial_carteira = 1000\n",
    "custo_trade = [0.01]\n",
    "taxa_aprendizagem = 0.01\n",
    "iteracao = 1000000"
   ]
  },
  {
   "cell_type": "code",
   "execution_count": null,
   "id": "83dc547a",
   "metadata": {
    "colab": {
     "base_uri": "https://localhost:8080/"
    },
    "executionInfo": {
     "elapsed": 15,
     "status": "ok",
     "timestamp": 1701692368977,
     "user": {
      "displayName": "jeferson sehnem",
      "userId": "11783029651982993074"
     },
     "user_tz": 180
    },
    "id": "83dc547a",
    "outputId": "9fea4b02-a6c9-4787-f3fd-a8b3a4d03bac"
   },
   "outputs": [
    {
     "name": "stdout",
     "output_type": "stream",
     "text": [
      "Stock Dimension: 45, State Space: 451\n"
     ]
    }
   ],
   "source": [
    "stock_dimension = len(treino.tic.unique())\n",
    "state_space = 1 + 2*stock_dimension + len(INDICATORS)*stock_dimension\n",
    "print(f\"Stock Dimension: {stock_dimension}, State Space: {state_space}\")"
   ]
  },
  {
   "cell_type": "code",
   "execution_count": null,
   "id": "e3c1a78d",
   "metadata": {
    "id": "e3c1a78d"
   },
   "outputs": [],
   "source": [
    "buy_cost_list = sell_cost_list = custo_trade * stock_dimension\n",
    "num_stock_shares = [0] * stock_dimension\n",
    "\n",
    "env_kwargs = {\n",
    "    \"hmax\": 100,\n",
    "    \"initial_amount\":valor_inicial_carteira ,\n",
    "    \"num_stock_shares\": num_stock_shares,\n",
    "    \"buy_cost_pct\": buy_cost_list,\n",
    "    \"sell_cost_pct\": sell_cost_list,\n",
    "    \"state_space\": state_space,\n",
    "    \"stock_dim\": stock_dimension,\n",
    "    \"tech_indicator_list\": INDICATORS,\n",
    "    \"action_space\": stock_dimension,\n",
    "    \"reward_scaling\": 1e-4\n",
    "}\n",
    "\n",
    "\n",
    "e_train_gym = StockTradingEnv(df = treino, **env_kwargs)"
   ]
  },
  {
   "cell_type": "code",
   "execution_count": null,
   "id": "3ded892b",
   "metadata": {
    "colab": {
     "base_uri": "https://localhost:8080/"
    },
    "executionInfo": {
     "elapsed": 375,
     "status": "ok",
     "timestamp": 1701692369342,
     "user": {
      "displayName": "jeferson sehnem",
      "userId": "11783029651982993074"
     },
     "user_tz": 180
    },
    "id": "3ded892b",
    "outputId": "a405cfdf-069a-4b30-ee77-b3c1c1e2cff1"
   },
   "outputs": [
    {
     "name": "stdout",
     "output_type": "stream",
     "text": [
      "<class 'stable_baselines3.common.vec_env.dummy_vec_env.DummyVecEnv'>\n"
     ]
    }
   ],
   "source": [
    "env_train, _ = e_train_gym.get_sb_env()\n",
    "print(type(env_train))"
   ]
  },
  {
   "cell_type": "markdown",
   "id": "4c945a7c",
   "metadata": {
    "id": "4c945a7c"
   },
   "source": [
    "# 4.Treinando os modelos\n",
    "Serao treinados 5 modelos da biblioteca **[Stable Baselines 3](https://stable-baselines3.readthedocs.io/en/master/)**\n",
    "\n",
    "Os modelos de aprendizagem de reforco são o: [A2C](https://stable-baselines3.readthedocs.io/en/master/modules/a2c.html), [DDPG](https://stable-baselines3.readthedocs.io/en/master/modules/ddpg.html), [PPO](https://stable-baselines3.readthedocs.io/en/master/modules/ppo.html), [TD3](https://stable-baselines3.readthedocs.io/en/master/modules/td3.html), [SAC](https://stable-baselines3.readthedocs.io/en/master/modules/sac.html)."
   ]
  },
  {
   "cell_type": "markdown",
   "id": "a83f952d",
   "metadata": {
    "id": "a83f952d"
   },
   "source": [
    "## Configurações do ambiente"
   ]
  },
  {
   "cell_type": "code",
   "execution_count": null,
   "id": "bd97ee9a",
   "metadata": {
    "id": "bd97ee9a"
   },
   "outputs": [],
   "source": [
    "agent = DRLAgent(env = env_train)\n",
    "\n",
    "# Colque true para o algoritimo que vc quer treinar\n",
    "if_using_a2c = False\n",
    "if_using_ddpg = False\n",
    "if_using_ppo = False\n",
    "if_using_td3 = True\n",
    "if_using_sac = False"
   ]
  },
  {
   "cell_type": "markdown",
   "id": "d626b0bc",
   "metadata": {
    "id": "d626b0bc"
   },
   "source": [
    "## Treinando o algoritimo A2C"
   ]
  },
  {
   "cell_type": "code",
   "execution_count": null,
   "id": "31ce00ce",
   "metadata": {
    "colab": {
     "base_uri": "https://localhost:8080/"
    },
    "executionInfo": {
     "elapsed": 2511,
     "status": "ok",
     "timestamp": 1701692371845,
     "user": {
      "displayName": "jeferson sehnem",
      "userId": "11783029651982993074"
     },
     "user_tz": 180
    },
    "id": "31ce00ce",
    "outputId": "f5c5f4b2-d0c8-4765-92ff-91160ed76789"
   },
   "outputs": [
    {
     "name": "stdout",
     "output_type": "stream",
     "text": [
      "{'n_steps': 2048, 'ent_coef': 0.01, 'learning_rate': 0.01}\n",
      "Using cpu device\n"
     ]
    }
   ],
   "source": [
    "agent = DRLAgent(env = env_train)\n",
    "A2C_PARAMS = {\n",
    "    \"n_steps\": 2048,\n",
    "    \"ent_coef\": 0.01,\n",
    "    \"learning_rate\": taxa_aprendizagem\n",
    "}\n",
    "model_a2c = agent.get_model(\"a2c\",model_kwargs=A2C_PARAMS)\n",
    "\n",
    "\n",
    "if if_using_a2c:\n",
    "  # set up logger\n",
    "  tmp_path = RESULTS_DIR + '/a2c'\n",
    "  new_logger_a2c = configure(tmp_path, [\"stdout\", \"csv\", \"tensorboard\"])\n",
    "  # Set new logger\n",
    "  model_a2c.set_logger(new_logger_a2c)"
   ]
  },
  {
   "cell_type": "code",
   "execution_count": null,
   "id": "878aaa98",
   "metadata": {
    "colab": {
     "base_uri": "https://localhost:8080/"
    },
    "executionInfo": {
     "elapsed": 23,
     "status": "ok",
     "timestamp": 1701692371847,
     "user": {
      "displayName": "jeferson sehnem",
      "userId": "11783029651982993074"
     },
     "user_tz": 180
    },
    "id": "878aaa98",
    "outputId": "f50ec726-98d4-43e7-ff86-0ccc239c00b2"
   },
   "outputs": [
    {
     "name": "stdout",
     "output_type": "stream",
     "text": [
      "Tempo de execução: 0.00 minutos\n"
     ]
    },
    {
     "name": "stderr",
     "output_type": "stream",
     "text": [
      "/usr/local/lib/python3.10/dist-packages/ipykernel/ipkernel.py:283: DeprecationWarning: `should_run_async` will not call `transform_cell` automatically in the future. Please pass the result to `transformed_cell` argument and any exception that happen during thetransform in `preprocessing_exc_tuple` in IPython 7.17 and above.\n",
      "  and should_run_async(code)\n"
     ]
    }
   ],
   "source": [
    "start_time = time.time()\n",
    "trained_a2c = agent.train_model(model=model_a2c,\n",
    "                             tb_log_name='a2c',\n",
    "                             total_timesteps=iteracao) if if_using_a2c else None\n",
    "end_time = time.time()\n",
    "\n",
    "# Calcula o tempo decorrido em segundos\n",
    "execution_time_seconds = end_time - start_time\n",
    "\n",
    "# Calcula o tempo decorrido em minutos\n",
    "execution_time_minutes = execution_time_seconds / 60\n",
    "\n",
    "# Imprime o tempo de execução em minutos\n",
    "print(f\"Tempo de execução: {execution_time_minutes:.2f} minutos\")"
   ]
  },
  {
   "cell_type": "code",
   "execution_count": null,
   "id": "a025977f",
   "metadata": {
    "id": "a025977f"
   },
   "outputs": [],
   "source": [
    "trained_a2c.save(TRAINED_MODEL_DIR + \"/agent_a2c\") if if_using_a2c else None"
   ]
  },
  {
   "cell_type": "markdown",
   "id": "86be74d5",
   "metadata": {
    "id": "86be74d5"
   },
   "source": [
    "## Treinando o algoritimo DDPG"
   ]
  },
  {
   "cell_type": "code",
   "execution_count": null,
   "id": "7a88e84a",
   "metadata": {
    "colab": {
     "base_uri": "https://localhost:8080/"
    },
    "executionInfo": {
     "elapsed": 17,
     "status": "ok",
     "timestamp": 1701692371847,
     "user": {
      "displayName": "jeferson sehnem",
      "userId": "11783029651982993074"
     },
     "user_tz": 180
    },
    "id": "7a88e84a",
    "outputId": "69b604d9-9841-4a61-f1f4-b2a327bce0b4"
   },
   "outputs": [
    {
     "name": "stdout",
     "output_type": "stream",
     "text": [
      "{'learning_rate': 0.01, 'batch_size': 128}\n",
      "Using cpu device\n"
     ]
    }
   ],
   "source": [
    "agent = DRLAgent(env = env_train)\n",
    "DDPG_PARAMS = {\n",
    "    \"learning_rate\": taxa_aprendizagem,\n",
    "    \"batch_size\": 128,\n",
    "}\n",
    "model_ddpg = agent.get_model(\"ddpg\",model_kwargs=DDPG_PARAMS)\n",
    "\n",
    "if if_using_ddpg:\n",
    "  # set up logger\n",
    "  tmp_path = RESULTS_DIR + '/ddpg'\n",
    "  new_logger_ddpg = configure(tmp_path, [\"stdout\", \"csv\", \"tensorboard\"])\n",
    "  # Set new logger\n",
    "  model_ddpg.set_logger(new_logger_ddpg)"
   ]
  },
  {
   "cell_type": "code",
   "execution_count": null,
   "id": "8ca76e65",
   "metadata": {
    "colab": {
     "base_uri": "https://localhost:8080/"
    },
    "executionInfo": {
     "elapsed": 14,
     "status": "ok",
     "timestamp": 1701692371848,
     "user": {
      "displayName": "jeferson sehnem",
      "userId": "11783029651982993074"
     },
     "user_tz": 180
    },
    "id": "8ca76e65",
    "outputId": "93d5cf84-3e27-4599-e013-97199244d342"
   },
   "outputs": [
    {
     "name": "stdout",
     "output_type": "stream",
     "text": [
      "Tempo de execução: 0.00 minutos\n"
     ]
    }
   ],
   "source": [
    "start_time = time.time()\n",
    "\n",
    "trained_ddpg = agent.train_model(model=model_ddpg,\n",
    "                             tb_log_name='ddpg',\n",
    "                             total_timesteps=iteracao-500000) if if_using_ddpg else None\n",
    "end_time = time.time()\n",
    "\n",
    "# Calcula o tempo decorrido em segundos\n",
    "execution_time_seconds = end_time - start_time\n",
    "\n",
    "# Calcula o tempo decorrido em minutos\n",
    "execution_time_minutes = execution_time_seconds / 60\n",
    "\n",
    "# Imprime o tempo de execução em minutos\n",
    "print(f\"Tempo de execução: {execution_time_minutes:.2f} minutos\")"
   ]
  },
  {
   "cell_type": "code",
   "execution_count": null,
   "id": "496d8350",
   "metadata": {
    "id": "496d8350"
   },
   "outputs": [],
   "source": [
    "trained_ddpg.save(\"/content/drive/Othercomputers/Meu laptop/Aprendizado_reforco_trading/Finrl/FinRL_testes/trained_models\" + \"/agent_ddpg\") if if_using_ddpg else None"
   ]
  },
  {
   "cell_type": "code",
   "execution_count": null,
   "id": "4f672020",
   "metadata": {
    "id": "4f672020"
   },
   "outputs": [],
   "source": [
    "trained_ddpg.save(TRAINED_MODEL_DIR + \"/agent_ddpg\") if if_using_ddpg else None"
   ]
  },
  {
   "cell_type": "markdown",
   "id": "ec369e5a",
   "metadata": {
    "id": "ec369e5a"
   },
   "source": [
    "## Treinando o algoritimo PPO"
   ]
  },
  {
   "cell_type": "code",
   "execution_count": null,
   "id": "f1970e24",
   "metadata": {
    "colab": {
     "base_uri": "https://localhost:8080/"
    },
    "executionInfo": {
     "elapsed": 18,
     "status": "ok",
     "timestamp": 1701692372354,
     "user": {
      "displayName": "jeferson sehnem",
      "userId": "11783029651982993074"
     },
     "user_tz": 180
    },
    "id": "f1970e24",
    "outputId": "00fc9d34-ef92-49d2-f95a-8a4637457b64"
   },
   "outputs": [
    {
     "name": "stdout",
     "output_type": "stream",
     "text": [
      "{'n_steps': 2048, 'ent_coef': 0.01, 'learning_rate': 0.01, 'batch_size': 128}\n",
      "Using cpu device\n"
     ]
    }
   ],
   "source": [
    "agent = DRLAgent(env = env_train)\n",
    "PPO_PARAMS = {\n",
    "    \"n_steps\": 2048,\n",
    "    \"ent_coef\": 0.01,\n",
    "    \"learning_rate\": taxa_aprendizagem,\n",
    "    \"batch_size\": 128,\n",
    "}\n",
    "model_ppo = agent.get_model(\"ppo\",model_kwargs = PPO_PARAMS)\n",
    "\n",
    "if if_using_ppo:\n",
    "  # set up logger\n",
    "  tmp_path = RESULTS_DIR + '/ppo'\n",
    "  new_logger_ppo = configure(tmp_path, [\"stdout\", \"csv\", \"tensorboard\"])\n",
    "  # Set new logger\n",
    "  model_ppo.set_logger(new_logger_ppo)"
   ]
  },
  {
   "cell_type": "code",
   "execution_count": null,
   "id": "fcb7f105",
   "metadata": {
    "colab": {
     "base_uri": "https://localhost:8080/"
    },
    "executionInfo": {
     "elapsed": 16,
     "status": "ok",
     "timestamp": 1701692372354,
     "user": {
      "displayName": "jeferson sehnem",
      "userId": "11783029651982993074"
     },
     "user_tz": 180
    },
    "id": "fcb7f105",
    "outputId": "9d234e2f-169e-4c5a-e229-796c52b22be9"
   },
   "outputs": [
    {
     "name": "stdout",
     "output_type": "stream",
     "text": [
      "Tempo de execução: 0.00 minutos\n"
     ]
    }
   ],
   "source": [
    "start_time = time.time()\n",
    "trained_ppo = agent.train_model(model=model_ppo,\n",
    "                             tb_log_name='ppo',\n",
    "                             total_timesteps=iteracao) if if_using_ppo else None\n",
    "\n",
    "end_time = time.time()\n",
    "\n",
    "# Calcula o tempo decorrido em segundos\n",
    "execution_time_seconds = end_time - start_time\n",
    "\n",
    "# Calcula o tempo decorrido em minutos\n",
    "execution_time_minutes = execution_time_seconds / 60\n",
    "\n",
    "# Imprime o tempo de execução em minutos\n",
    "print(f\"Tempo de execução: {execution_time_minutes:.2f} minutos\")"
   ]
  },
  {
   "cell_type": "code",
   "execution_count": null,
   "id": "0529f729",
   "metadata": {
    "id": "0529f729"
   },
   "outputs": [],
   "source": [
    "trained_ddpg.save(\"/content/drive/Othercomputers/Meu laptop/Aprendizado_reforco_trading/Finrl/FinRL_testes/trained_models\" + \"/agent_ppo\") if if_using_ddpg else None"
   ]
  },
  {
   "cell_type": "code",
   "execution_count": null,
   "id": "175bc95b",
   "metadata": {
    "id": "175bc95b"
   },
   "outputs": [],
   "source": [
    "trained_ppo.save(TRAINED_MODEL_DIR + \"/agent_ppo\") if if_using_ppo else None"
   ]
  },
  {
   "cell_type": "markdown",
   "id": "469ec5dc",
   "metadata": {
    "id": "469ec5dc"
   },
   "source": [
    "## Treinando o algoritimo TD3"
   ]
  },
  {
   "cell_type": "code",
   "execution_count": null,
   "id": "6173e643",
   "metadata": {
    "colab": {
     "base_uri": "https://localhost:8080/"
    },
    "executionInfo": {
     "elapsed": 12,
     "status": "ok",
     "timestamp": 1701692372355,
     "user": {
      "displayName": "jeferson sehnem",
      "userId": "11783029651982993074"
     },
     "user_tz": 180
    },
    "id": "6173e643",
    "outputId": "8d1d5356-bbcc-4f2d-fa71-7ca4ab7bc7ea"
   },
   "outputs": [
    {
     "name": "stdout",
     "output_type": "stream",
     "text": [
      "{'batch_size': 100, 'buffer_size': 1000000, 'learning_rate': 0.01}\n",
      "Using cpu device\n",
      "Logging to results/td3\n"
     ]
    }
   ],
   "source": [
    "agent = DRLAgent(env = env_train)\n",
    "TD3_PARAMS = {\"batch_size\": 100,\n",
    "              \"buffer_size\": 1000000,\n",
    "              \"learning_rate\": taxa_aprendizagem}\n",
    "\n",
    "model_td3 = agent.get_model(\"td3\",model_kwargs = TD3_PARAMS)\n",
    "\n",
    "if if_using_td3:\n",
    "  # set up logger\n",
    "  tmp_path = RESULTS_DIR + '/td3'\n",
    "  new_logger_td3 = configure(tmp_path, [\"stdout\", \"csv\", \"tensorboard\"])\n",
    "  # Set new logger\n",
    "  model_td3.set_logger(new_logger_td3)"
   ]
  },
  {
   "cell_type": "code",
   "execution_count": null,
   "id": "bad724ca",
   "metadata": {
    "colab": {
     "base_uri": "https://localhost:8080/"
    },
    "id": "bad724ca",
    "outputId": "4800f324-a523-4b58-a99f-8a88e0169ab9"
   },
   "outputs": [
    {
     "metadata": {
      "tags": null
     },
     "name": "stdout",
     "output_type": "stream",
     "text": [
      "--------------------------------------\n",
      "| time/              |               |\n",
      "|    episodes        | 4             |\n",
      "|    fps             | 27            |\n",
      "|    time_elapsed    | 92            |\n",
      "|    total_timesteps | 2528          |\n",
      "| train/             |               |\n",
      "|    actor_loss      | -4.42         |\n",
      "|    critic_loss     | 1.01          |\n",
      "|    learning_rate   | 0.01          |\n",
      "|    n_updates       | 1896          |\n",
      "|    reward          | -0.0014639263 |\n",
      "--------------------------------------\n",
      "--------------------------------------\n",
      "| time/              |               |\n",
      "|    episodes        | 8             |\n",
      "|    fps             | 23            |\n",
      "|    time_elapsed    | 213           |\n",
      "|    total_timesteps | 5056          |\n",
      "| train/             |               |\n",
      "|    actor_loss      | -4.51         |\n",
      "|    critic_loss     | 0.0858        |\n",
      "|    learning_rate   | 0.01          |\n",
      "|    n_updates       | 4424          |\n",
      "|    reward          | -0.0014639263 |\n",
      "--------------------------------------\n",
      "day: 631, episode: 10\n",
      "begin_total_asset: 1000.00\n",
      "end_total_asset: 798.44\n",
      "total_reward: -201.56\n",
      "total_cost: 9.89\n",
      "total_trades: 13882\n",
      "Sharpe: 0.051\n",
      "=================================\n",
      "--------------------------------------\n",
      "| time/              |               |\n",
      "|    episodes        | 12            |\n",
      "|    fps             | 22            |\n",
      "|    time_elapsed    | 333           |\n",
      "|    total_timesteps | 7584          |\n",
      "| train/             |               |\n",
      "|    actor_loss      | -0.162        |\n",
      "|    critic_loss     | 0.000504      |\n",
      "|    learning_rate   | 0.01          |\n",
      "|    n_updates       | 6952          |\n",
      "|    reward          | -0.0014639263 |\n",
      "--------------------------------------\n",
      "--------------------------------------\n",
      "| time/              |               |\n",
      "|    episodes        | 16            |\n",
      "|    fps             | 21            |\n",
      "|    time_elapsed    | 463           |\n",
      "|    total_timesteps | 10112         |\n",
      "| train/             |               |\n",
      "|    actor_loss      | -0.12         |\n",
      "|    critic_loss     | 0.000522      |\n",
      "|    learning_rate   | 0.01          |\n",
      "|    n_updates       | 9480          |\n",
      "|    reward          | -0.0014639263 |\n",
      "--------------------------------------\n",
      "day: 631, episode: 20\n",
      "begin_total_asset: 1000.00\n",
      "end_total_asset: 798.44\n",
      "total_reward: -201.56\n",
      "total_cost: 9.89\n",
      "total_trades: 13882\n",
      "Sharpe: 0.051\n",
      "=================================\n",
      "--------------------------------------\n",
      "| time/              |               |\n",
      "|    episodes        | 20            |\n",
      "|    fps             | 21            |\n",
      "|    time_elapsed    | 586           |\n",
      "|    total_timesteps | 12640         |\n",
      "| train/             |               |\n",
      "|    actor_loss      | -0.0531       |\n",
      "|    critic_loss     | 0.000103      |\n",
      "|    learning_rate   | 0.01          |\n",
      "|    n_updates       | 12008         |\n",
      "|    reward          | -0.0014639263 |\n",
      "--------------------------------------\n",
      "--------------------------------------\n",
      "| time/              |               |\n",
      "|    episodes        | 24            |\n",
      "|    fps             | 21            |\n",
      "|    time_elapsed    | 708           |\n",
      "|    total_timesteps | 15168         |\n",
      "| train/             |               |\n",
      "|    actor_loss      | -0.0384       |\n",
      "|    critic_loss     | 7.08e-05      |\n",
      "|    learning_rate   | 0.01          |\n",
      "|    n_updates       | 14536         |\n",
      "|    reward          | -0.0014639263 |\n",
      "--------------------------------------\n",
      "--------------------------------------\n",
      "| time/              |               |\n",
      "|    episodes        | 28            |\n",
      "|    fps             | 21            |\n",
      "|    time_elapsed    | 831           |\n",
      "|    total_timesteps | 17696         |\n",
      "| train/             |               |\n",
      "|    actor_loss      | -0.0248       |\n",
      "|    critic_loss     | 3.71e-05      |\n",
      "|    learning_rate   | 0.01          |\n",
      "|    n_updates       | 17064         |\n",
      "|    reward          | -0.0014639263 |\n",
      "--------------------------------------\n",
      "day: 631, episode: 30\n",
      "begin_total_asset: 1000.00\n",
      "end_total_asset: 798.44\n",
      "total_reward: -201.56\n",
      "total_cost: 9.89\n",
      "total_trades: 13882\n",
      "Sharpe: 0.051\n",
      "=================================\n",
      "--------------------------------------\n",
      "| time/              |               |\n",
      "|    episodes        | 32            |\n",
      "|    fps             | 21            |\n",
      "|    time_elapsed    | 960           |\n",
      "|    total_timesteps | 20224         |\n",
      "| train/             |               |\n",
      "|    actor_loss      | -0.0115       |\n",
      "|    critic_loss     | 2.59e-05      |\n",
      "|    learning_rate   | 0.01          |\n",
      "|    n_updates       | 19592         |\n",
      "|    reward          | -0.0014639263 |\n",
      "--------------------------------------\n",
      "--------------------------------------\n",
      "| time/              |               |\n",
      "|    episodes        | 36            |\n",
      "|    fps             | 20            |\n",
      "|    time_elapsed    | 1084          |\n",
      "|    total_timesteps | 22752         |\n",
      "| train/             |               |\n",
      "|    actor_loss      | -0.00222      |\n",
      "|    critic_loss     | 1.25e-05      |\n",
      "|    learning_rate   | 0.01          |\n",
      "|    n_updates       | 22120         |\n",
      "|    reward          | -0.0014639263 |\n",
      "--------------------------------------\n",
      "day: 631, episode: 40\n",
      "begin_total_asset: 1000.00\n",
      "end_total_asset: 798.44\n",
      "total_reward: -201.56\n",
      "total_cost: 9.89\n",
      "total_trades: 13882\n",
      "Sharpe: 0.051\n",
      "=================================\n",
      "--------------------------------------\n",
      "| time/              |               |\n",
      "|    episodes        | 40            |\n",
      "|    fps             | 20            |\n",
      "|    time_elapsed    | 1208          |\n",
      "|    total_timesteps | 25280         |\n",
      "| train/             |               |\n",
      "|    actor_loss      | -0.00188      |\n",
      "|    critic_loss     | 1.34e-05      |\n",
      "|    learning_rate   | 0.01          |\n",
      "|    n_updates       | 24648         |\n",
      "|    reward          | -0.0014639263 |\n",
      "--------------------------------------\n",
      "--------------------------------------\n",
      "| time/              |               |\n",
      "|    episodes        | 44            |\n",
      "|    fps             | 20            |\n",
      "|    time_elapsed    | 1331          |\n",
      "|    total_timesteps | 27808         |\n",
      "| train/             |               |\n",
      "|    actor_loss      | -0.00149      |\n",
      "|    critic_loss     | 1.27e-05      |\n",
      "|    learning_rate   | 0.01          |\n",
      "|    n_updates       | 27176         |\n",
      "|    reward          | -0.0014639263 |\n",
      "--------------------------------------\n",
      "--------------------------------------\n",
      "| time/              |               |\n",
      "|    episodes        | 48            |\n",
      "|    fps             | 20            |\n",
      "|    time_elapsed    | 1455          |\n",
      "|    total_timesteps | 30336         |\n",
      "| train/             |               |\n",
      "|    actor_loss      | -0.00122      |\n",
      "|    critic_loss     | 1.23e-05      |\n",
      "|    learning_rate   | 0.01          |\n",
      "|    n_updates       | 29704         |\n",
      "|    reward          | -0.0014639263 |\n",
      "--------------------------------------\n",
      "day: 631, episode: 50\n",
      "begin_total_asset: 1000.00\n",
      "end_total_asset: 798.44\n",
      "total_reward: -201.56\n",
      "total_cost: 9.89\n",
      "total_trades: 13882\n",
      "Sharpe: 0.051\n",
      "=================================\n",
      "--------------------------------------\n",
      "| time/              |               |\n",
      "|    episodes        | 52            |\n",
      "|    fps             | 20            |\n",
      "|    time_elapsed    | 1581          |\n",
      "|    total_timesteps | 32864         |\n",
      "| train/             |               |\n",
      "|    actor_loss      | -0.000922     |\n",
      "|    critic_loss     | 1.28e-05      |\n",
      "|    learning_rate   | 0.01          |\n",
      "|    n_updates       | 32232         |\n",
      "|    reward          | -0.0014639263 |\n",
      "--------------------------------------\n",
      "--------------------------------------\n",
      "| time/              |               |\n",
      "|    episodes        | 56            |\n",
      "|    fps             | 20            |\n",
      "|    time_elapsed    | 1708          |\n",
      "|    total_timesteps | 35392         |\n",
      "| train/             |               |\n",
      "|    actor_loss      | -0.000663     |\n",
      "|    critic_loss     | 1.3e-05       |\n",
      "|    learning_rate   | 0.01          |\n",
      "|    n_updates       | 34760         |\n",
      "|    reward          | -0.0014639263 |\n",
      "--------------------------------------\n",
      "day: 631, episode: 60\n",
      "begin_total_asset: 1000.00\n",
      "end_total_asset: 798.44\n",
      "total_reward: -201.56\n",
      "total_cost: 9.89\n",
      "total_trades: 13882\n",
      "Sharpe: 0.051\n",
      "=================================\n",
      "--------------------------------------\n",
      "| time/              |               |\n",
      "|    episodes        | 60            |\n",
      "|    fps             | 20            |\n",
      "|    time_elapsed    | 1833          |\n",
      "|    total_timesteps | 37920         |\n",
      "| train/             |               |\n",
      "|    actor_loss      | -0.000417     |\n",
      "|    critic_loss     | 1.26e-05      |\n",
      "|    learning_rate   | 0.01          |\n",
      "|    n_updates       | 37288         |\n",
      "|    reward          | -0.0014639263 |\n",
      "--------------------------------------\n",
      "--------------------------------------\n",
      "| time/              |               |\n",
      "|    episodes        | 64            |\n",
      "|    fps             | 20            |\n",
      "|    time_elapsed    | 1958          |\n",
      "|    total_timesteps | 40448         |\n",
      "| train/             |               |\n",
      "|    actor_loss      | -0.00023      |\n",
      "|    critic_loss     | 1.23e-05      |\n",
      "|    learning_rate   | 0.01          |\n",
      "|    n_updates       | 39816         |\n",
      "|    reward          | -0.0014639263 |\n",
      "--------------------------------------\n",
      "--------------------------------------\n",
      "| time/              |               |\n",
      "|    episodes        | 68            |\n",
      "|    fps             | 20            |\n",
      "|    time_elapsed    | 2083          |\n",
      "|    total_timesteps | 42976         |\n",
      "| train/             |               |\n",
      "|    actor_loss      | -2.23e-05     |\n",
      "|    critic_loss     | 1.28e-05      |\n",
      "|    learning_rate   | 0.01          |\n",
      "|    n_updates       | 42344         |\n",
      "|    reward          | -0.0014639263 |\n",
      "--------------------------------------\n",
      "day: 631, episode: 70\n",
      "begin_total_asset: 1000.00\n",
      "end_total_asset: 798.44\n",
      "total_reward: -201.56\n",
      "total_cost: 9.89\n",
      "total_trades: 13882\n",
      "Sharpe: 0.051\n",
      "=================================\n",
      "--------------------------------------\n",
      "| time/              |               |\n",
      "|    episodes        | 72            |\n",
      "|    fps             | 20            |\n",
      "|    time_elapsed    | 2207          |\n",
      "|    total_timesteps | 45504         |\n",
      "| train/             |               |\n",
      "|    actor_loss      | 0.00019       |\n",
      "|    critic_loss     | 1.24e-05      |\n",
      "|    learning_rate   | 0.01          |\n",
      "|    n_updates       | 44872         |\n",
      "|    reward          | -0.0014639263 |\n",
      "--------------------------------------\n",
      "--------------------------------------\n",
      "| time/              |               |\n",
      "|    episodes        | 76            |\n",
      "|    fps             | 20            |\n",
      "|    time_elapsed    | 2333          |\n",
      "|    total_timesteps | 48032         |\n",
      "| train/             |               |\n",
      "|    actor_loss      | 0.000361      |\n",
      "|    critic_loss     | 1.24e-05      |\n",
      "|    learning_rate   | 0.01          |\n",
      "|    n_updates       | 47400         |\n",
      "|    reward          | -0.0014639263 |\n",
      "--------------------------------------\n",
      "day: 631, episode: 80\n",
      "begin_total_asset: 1000.00\n",
      "end_total_asset: 798.44\n",
      "total_reward: -201.56\n",
      "total_cost: 9.89\n",
      "total_trades: 13882\n",
      "Sharpe: 0.051\n",
      "=================================\n",
      "--------------------------------------\n",
      "| time/              |               |\n",
      "|    episodes        | 80            |\n",
      "|    fps             | 20            |\n",
      "|    time_elapsed    | 2460          |\n",
      "|    total_timesteps | 50560         |\n",
      "| train/             |               |\n",
      "|    actor_loss      | 0.000563      |\n",
      "|    critic_loss     | 1.26e-05      |\n",
      "|    learning_rate   | 0.01          |\n",
      "|    n_updates       | 49928         |\n",
      "|    reward          | -0.0014639263 |\n",
      "--------------------------------------\n",
      "--------------------------------------\n",
      "| time/              |               |\n",
      "|    episodes        | 84            |\n",
      "|    fps             | 20            |\n",
      "|    time_elapsed    | 2586          |\n",
      "|    total_timesteps | 53088         |\n",
      "| train/             |               |\n",
      "|    actor_loss      | 0.000736      |\n",
      "|    critic_loss     | 1.24e-05      |\n",
      "|    learning_rate   | 0.01          |\n",
      "|    n_updates       | 52456         |\n",
      "|    reward          | -0.0014639263 |\n",
      "--------------------------------------\n",
      "--------------------------------------\n",
      "| time/              |               |\n",
      "|    episodes        | 88            |\n",
      "|    fps             | 20            |\n",
      "|    time_elapsed    | 2716          |\n",
      "|    total_timesteps | 55616         |\n",
      "| train/             |               |\n",
      "|    actor_loss      | 0.000875      |\n",
      "|    critic_loss     | 1.27e-05      |\n",
      "|    learning_rate   | 0.01          |\n",
      "|    n_updates       | 54984         |\n",
      "|    reward          | -0.0014639263 |\n",
      "--------------------------------------\n",
      "day: 631, episode: 90\n",
      "begin_total_asset: 1000.00\n",
      "end_total_asset: 798.44\n",
      "total_reward: -201.56\n",
      "total_cost: 9.89\n",
      "total_trades: 13882\n",
      "Sharpe: 0.051\n",
      "=================================\n",
      "--------------------------------------\n",
      "| time/              |               |\n",
      "|    episodes        | 92            |\n",
      "|    fps             | 20            |\n",
      "|    time_elapsed    | 2850          |\n",
      "|    total_timesteps | 58144         |\n",
      "| train/             |               |\n",
      "|    actor_loss      | 0.00101       |\n",
      "|    critic_loss     | 1.23e-05      |\n",
      "|    learning_rate   | 0.01          |\n",
      "|    n_updates       | 57512         |\n",
      "|    reward          | -0.0014639263 |\n",
      "--------------------------------------\n",
      "--------------------------------------\n",
      "| time/              |               |\n",
      "|    episodes        | 96            |\n",
      "|    fps             | 20            |\n",
      "|    time_elapsed    | 2988          |\n",
      "|    total_timesteps | 60672         |\n",
      "| train/             |               |\n",
      "|    actor_loss      | 0.00115       |\n",
      "|    critic_loss     | 1.25e-05      |\n",
      "|    learning_rate   | 0.01          |\n",
      "|    n_updates       | 60040         |\n",
      "|    reward          | -0.0014639263 |\n",
      "--------------------------------------\n",
      "day: 631, episode: 100\n",
      "begin_total_asset: 1000.00\n",
      "end_total_asset: 798.44\n",
      "total_reward: -201.56\n",
      "total_cost: 9.89\n",
      "total_trades: 13882\n",
      "Sharpe: 0.051\n",
      "=================================\n",
      "--------------------------------------\n",
      "| time/              |               |\n",
      "|    episodes        | 100           |\n",
      "|    fps             | 20            |\n",
      "|    time_elapsed    | 3127          |\n",
      "|    total_timesteps | 63200         |\n",
      "| train/             |               |\n",
      "|    actor_loss      | 0.00127       |\n",
      "|    critic_loss     | 1.23e-05      |\n",
      "|    learning_rate   | 0.01          |\n",
      "|    n_updates       | 62568         |\n",
      "|    reward          | -0.0014639263 |\n",
      "--------------------------------------\n",
      "--------------------------------------\n",
      "| time/              |               |\n",
      "|    episodes        | 104           |\n",
      "|    fps             | 20            |\n",
      "|    time_elapsed    | 3266          |\n",
      "|    total_timesteps | 65728         |\n",
      "| train/             |               |\n",
      "|    actor_loss      | 0.00142       |\n",
      "|    critic_loss     | 1.26e-05      |\n",
      "|    learning_rate   | 0.01          |\n",
      "|    n_updates       | 65096         |\n",
      "|    reward          | -0.0014639263 |\n",
      "--------------------------------------\n",
      "--------------------------------------\n",
      "| time/              |               |\n",
      "|    episodes        | 108           |\n",
      "|    fps             | 20            |\n",
      "|    time_elapsed    | 3411          |\n",
      "|    total_timesteps | 68256         |\n",
      "| train/             |               |\n",
      "|    actor_loss      | 0.00149       |\n",
      "|    critic_loss     | 1.23e-05      |\n",
      "|    learning_rate   | 0.01          |\n",
      "|    n_updates       | 67624         |\n",
      "|    reward          | -0.0014639263 |\n",
      "--------------------------------------\n",
      "day: 631, episode: 110\n",
      "begin_total_asset: 1000.00\n",
      "end_total_asset: 798.44\n",
      "total_reward: -201.56\n",
      "total_cost: 9.89\n",
      "total_trades: 13882\n",
      "Sharpe: 0.051\n",
      "=================================\n",
      "--------------------------------------\n",
      "| time/              |               |\n",
      "|    episodes        | 112           |\n",
      "|    fps             | 19            |\n",
      "|    time_elapsed    | 3557          |\n",
      "|    total_timesteps | 70784         |\n",
      "| train/             |               |\n",
      "|    actor_loss      | 0.00157       |\n",
      "|    critic_loss     | 1.25e-05      |\n",
      "|    learning_rate   | 0.01          |\n",
      "|    n_updates       | 70152         |\n",
      "|    reward          | -0.0014639263 |\n",
      "--------------------------------------\n",
      "--------------------------------------\n",
      "| time/              |               |\n",
      "|    episodes        | 116           |\n",
      "|    fps             | 19            |\n",
      "|    time_elapsed    | 3710          |\n",
      "|    total_timesteps | 73312         |\n",
      "| train/             |               |\n",
      "|    actor_loss      | 0.00174       |\n",
      "|    critic_loss     | 1.25e-05      |\n",
      "|    learning_rate   | 0.01          |\n",
      "|    n_updates       | 72680         |\n",
      "|    reward          | -0.0014639263 |\n",
      "--------------------------------------\n",
      "day: 631, episode: 120\n",
      "begin_total_asset: 1000.00\n",
      "end_total_asset: 798.44\n",
      "total_reward: -201.56\n",
      "total_cost: 9.89\n",
      "total_trades: 13882\n",
      "Sharpe: 0.051\n",
      "=================================\n",
      "--------------------------------------\n",
      "| time/              |               |\n",
      "|    episodes        | 120           |\n",
      "|    fps             | 19            |\n",
      "|    time_elapsed    | 3869          |\n",
      "|    total_timesteps | 75840         |\n",
      "| train/             |               |\n",
      "|    actor_loss      | 0.00174       |\n",
      "|    critic_loss     | 1.23e-05      |\n",
      "|    learning_rate   | 0.01          |\n",
      "|    n_updates       | 75208         |\n",
      "|    reward          | -0.0014639263 |\n",
      "--------------------------------------\n",
      "--------------------------------------\n",
      "| time/              |               |\n",
      "|    episodes        | 124           |\n",
      "|    fps             | 19            |\n",
      "|    time_elapsed    | 4037          |\n",
      "|    total_timesteps | 78368         |\n",
      "| train/             |               |\n",
      "|    actor_loss      | 0.0018        |\n",
      "|    critic_loss     | 1.23e-05      |\n",
      "|    learning_rate   | 0.01          |\n",
      "|    n_updates       | 77736         |\n",
      "|    reward          | -0.0014639263 |\n",
      "--------------------------------------\n",
      "--------------------------------------\n",
      "| time/              |               |\n",
      "|    episodes        | 128           |\n",
      "|    fps             | 19            |\n",
      "|    time_elapsed    | 4217          |\n",
      "|    total_timesteps | 80896         |\n",
      "| train/             |               |\n",
      "|    actor_loss      | 0.00184       |\n",
      "|    critic_loss     | 1.21e-05      |\n",
      "|    learning_rate   | 0.01          |\n",
      "|    n_updates       | 80264         |\n",
      "|    reward          | -0.0014639263 |\n",
      "--------------------------------------\n",
      "day: 631, episode: 130\n",
      "begin_total_asset: 1000.00\n",
      "end_total_asset: 798.44\n",
      "total_reward: -201.56\n",
      "total_cost: 9.89\n",
      "total_trades: 13882\n",
      "Sharpe: 0.051\n",
      "=================================\n",
      "--------------------------------------\n",
      "| time/              |               |\n",
      "|    episodes        | 132           |\n",
      "|    fps             | 18            |\n",
      "|    time_elapsed    | 4404          |\n",
      "|    total_timesteps | 83424         |\n",
      "| train/             |               |\n",
      "|    actor_loss      | 0.00191       |\n",
      "|    critic_loss     | 1.23e-05      |\n",
      "|    learning_rate   | 0.01          |\n",
      "|    n_updates       | 82792         |\n",
      "|    reward          | -0.0014639263 |\n",
      "--------------------------------------\n",
      "--------------------------------------\n",
      "| time/              |               |\n",
      "|    episodes        | 136           |\n",
      "|    fps             | 18            |\n",
      "|    time_elapsed    | 4603          |\n",
      "|    total_timesteps | 85952         |\n",
      "| train/             |               |\n",
      "|    actor_loss      | 0.00198       |\n",
      "|    critic_loss     | 1.21e-05      |\n",
      "|    learning_rate   | 0.01          |\n",
      "|    n_updates       | 85320         |\n",
      "|    reward          | -0.0014639263 |\n",
      "--------------------------------------\n",
      "day: 631, episode: 140\n",
      "begin_total_asset: 1000.00\n",
      "end_total_asset: 798.44\n",
      "total_reward: -201.56\n",
      "total_cost: 9.89\n",
      "total_trades: 13882\n",
      "Sharpe: 0.051\n",
      "=================================\n",
      "--------------------------------------\n",
      "| time/              |               |\n",
      "|    episodes        | 140           |\n",
      "|    fps             | 18            |\n",
      "|    time_elapsed    | 4805          |\n",
      "|    total_timesteps | 88480         |\n",
      "| train/             |               |\n",
      "|    actor_loss      | 0.00202       |\n",
      "|    critic_loss     | 1.21e-05      |\n",
      "|    learning_rate   | 0.01          |\n",
      "|    n_updates       | 87848         |\n",
      "|    reward          | -0.0014639263 |\n",
      "--------------------------------------\n",
      "--------------------------------------\n",
      "| time/              |               |\n",
      "|    episodes        | 144           |\n",
      "|    fps             | 18            |\n",
      "|    time_elapsed    | 5008          |\n",
      "|    total_timesteps | 91008         |\n",
      "| train/             |               |\n",
      "|    actor_loss      | 0.00207       |\n",
      "|    critic_loss     | 1.28e-05      |\n",
      "|    learning_rate   | 0.01          |\n",
      "|    n_updates       | 90376         |\n",
      "|    reward          | -0.0014639263 |\n",
      "--------------------------------------\n",
      "--------------------------------------\n",
      "| time/              |               |\n",
      "|    episodes        | 148           |\n",
      "|    fps             | 17            |\n",
      "|    time_elapsed    | 5217          |\n",
      "|    total_timesteps | 93536         |\n",
      "| train/             |               |\n",
      "|    actor_loss      | 0.00216       |\n",
      "|    critic_loss     | 1.21e-05      |\n",
      "|    learning_rate   | 0.01          |\n",
      "|    n_updates       | 92904         |\n",
      "|    reward          | -0.0014639263 |\n",
      "--------------------------------------\n",
      "day: 631, episode: 150\n",
      "begin_total_asset: 1000.00\n",
      "end_total_asset: 798.44\n",
      "total_reward: -201.56\n",
      "total_cost: 9.89\n",
      "total_trades: 13882\n",
      "Sharpe: 0.051\n",
      "=================================\n",
      "--------------------------------------\n",
      "| time/              |               |\n",
      "|    episodes        | 152           |\n",
      "|    fps             | 17            |\n",
      "|    time_elapsed    | 5428          |\n",
      "|    total_timesteps | 96064         |\n",
      "| train/             |               |\n",
      "|    actor_loss      | 0.00215       |\n",
      "|    critic_loss     | 1.24e-05      |\n",
      "|    learning_rate   | 0.01          |\n",
      "|    n_updates       | 95432         |\n",
      "|    reward          | -0.0014639263 |\n",
      "--------------------------------------\n",
      "--------------------------------------\n",
      "| time/              |               |\n",
      "|    episodes        | 156           |\n",
      "|    fps             | 17            |\n",
      "|    time_elapsed    | 5650          |\n",
      "|    total_timesteps | 98592         |\n",
      "| train/             |               |\n",
      "|    actor_loss      | 0.00216       |\n",
      "|    critic_loss     | 1.21e-05      |\n",
      "|    learning_rate   | 0.01          |\n",
      "|    n_updates       | 97960         |\n",
      "|    reward          | -0.0014639263 |\n",
      "--------------------------------------\n",
      "day: 631, episode: 160\n",
      "begin_total_asset: 1000.00\n",
      "end_total_asset: 798.44\n",
      "total_reward: -201.56\n",
      "total_cost: 9.89\n",
      "total_trades: 13882\n",
      "Sharpe: 0.051\n",
      "=================================\n",
      "--------------------------------------\n",
      "| time/              |               |\n",
      "|    episodes        | 160           |\n",
      "|    fps             | 17            |\n",
      "|    time_elapsed    | 5879          |\n",
      "|    total_timesteps | 101120        |\n",
      "| train/             |               |\n",
      "|    actor_loss      | 0.00222       |\n",
      "|    critic_loss     | 1.23e-05      |\n",
      "|    learning_rate   | 0.01          |\n",
      "|    n_updates       | 100488        |\n",
      "|    reward          | -0.0014639263 |\n",
      "--------------------------------------\n",
      "--------------------------------------\n",
      "| time/              |               |\n",
      "|    episodes        | 164           |\n",
      "|    fps             | 16            |\n",
      "|    time_elapsed    | 6110          |\n",
      "|    total_timesteps | 103648        |\n",
      "| train/             |               |\n",
      "|    actor_loss      | 0.00226       |\n",
      "|    critic_loss     | 1.28e-05      |\n",
      "|    learning_rate   | 0.01          |\n",
      "|    n_updates       | 103016        |\n",
      "|    reward          | -0.0014639263 |\n",
      "--------------------------------------\n",
      "--------------------------------------\n",
      "| time/              |               |\n",
      "|    episodes        | 168           |\n",
      "|    fps             | 16            |\n",
      "|    time_elapsed    | 6339          |\n",
      "|    total_timesteps | 106176        |\n",
      "| train/             |               |\n",
      "|    actor_loss      | 0.00231       |\n",
      "|    critic_loss     | 1.21e-05      |\n",
      "|    learning_rate   | 0.01          |\n",
      "|    n_updates       | 105544        |\n",
      "|    reward          | -0.0014639263 |\n",
      "--------------------------------------\n",
      "day: 631, episode: 170\n",
      "begin_total_asset: 1000.00\n",
      "end_total_asset: 798.44\n",
      "total_reward: -201.56\n",
      "total_cost: 9.89\n",
      "total_trades: 13882\n",
      "Sharpe: 0.051\n",
      "=================================\n"
     ]
    }
   ],
   "source": [
    "start_time = time.time()\n",
    "trained_td3 = agent.train_model(model=model_td3,\n",
    "                             tb_log_name='td3',\n",
    "                             total_timesteps=iteracao) if if_using_td3 else None\n",
    "end_time = time.time()\n",
    "\n",
    "# Calcula o tempo decorrido em segundos\n",
    "execution_time_seconds = end_time - start_time\n",
    "\n",
    "# Calcula o tempo decorrido em minutos\n",
    "execution_time_minutes = execution_time_seconds / 60\n",
    "\n",
    "# Imprime o tempo de execução em minutos\n",
    "print(f\"Tempo de execução: {execution_time_minutes:.2f} minutos\")\n"
   ]
  },
  {
   "cell_type": "code",
   "execution_count": null,
   "id": "553c684a",
   "metadata": {
    "id": "553c684a"
   },
   "outputs": [],
   "source": [
    "TRAINED_MODEL_DIR"
   ]
  },
  {
   "cell_type": "code",
   "execution_count": null,
   "id": "bc443d27",
   "metadata": {
    "id": "bc443d27"
   },
   "outputs": [],
   "source": [
    "trained_td3.save(TRAINED_MODEL_DIR + \"/agent_td3\") if if_using_td3 else None"
   ]
  },
  {
   "cell_type": "markdown",
   "id": "cc67aac6",
   "metadata": {
    "id": "cc67aac6"
   },
   "source": [
    "## Treinando o algoritimo SAC"
   ]
  },
  {
   "cell_type": "code",
   "execution_count": null,
   "id": "5b93ed89",
   "metadata": {
    "id": "5b93ed89"
   },
   "outputs": [],
   "source": [
    "agent = DRLAgent(env = env_train)\n",
    "SAC_PARAMS = {\n",
    "    \"batch_size\": 128,\n",
    "    \"buffer_size\": 100000,\n",
    "    \"learning_rate\": taxa_aprendizagem,\n",
    "    \"learning_starts\": 100,\n",
    "    \"ent_coef\": \"auto_0.1\",\n",
    "}\n",
    "\n",
    "model_sac = agent.get_model(\"sac\",model_kwargs = SAC_PARAMS)\n",
    "\n",
    "if if_using_sac:\n",
    "  # set up logger\n",
    "  tmp_path = RESULTS_DIR + '/sac'\n",
    "  new_logger_sac = configure(tmp_path, [\"stdout\", \"csv\", \"tensorboard\"])\n",
    "  # Set new logger\n",
    "  model_sac.set_logger(new_logger_sac)"
   ]
  },
  {
   "cell_type": "code",
   "execution_count": null,
   "id": "ea7a5d57",
   "metadata": {
    "id": "ea7a5d57"
   },
   "outputs": [],
   "source": [
    "start_time = time.time()\n",
    "trained_sac = agent.train_model(model=model_sac,\n",
    "                             tb_log_name='sac',\n",
    "                             total_timesteps=iteracao) if if_using_sac else None\n",
    "end_time = time.time()\n",
    "\n",
    "# Calcula o tempo decorrido em segundos\n",
    "execution_time_seconds = end_time - start_time\n",
    "\n",
    "# Calcula o tempo decorrido em minutos\n",
    "execution_time_minutes = execution_time_seconds / 60\n",
    "\n",
    "# Imprime o tempo de execução em minutos\n",
    "print(f\"Tempo de execução: {execution_time_minutes:.2f} minutos\")"
   ]
  },
  {
   "cell_type": "code",
   "execution_count": null,
   "id": "2746d245",
   "metadata": {
    "id": "2746d245"
   },
   "outputs": [],
   "source": [
    "trained_sac.save(TRAINED_MODEL_DIR + \"/agent_sac\") if if_using_sac else None"
   ]
  },
  {
   "cell_type": "code",
   "execution_count": null,
   "id": "a3c5300a",
   "metadata": {
    "id": "a3c5300a"
   },
   "outputs": [],
   "source": []
  }
 ],
 "metadata": {
  "accelerator": "TPU",
  "colab": {
   "provenance": [],
   "toc_visible": true
  },
  "kernelspec": {
   "display_name": "Python 3 (ipykernel)",
   "language": "python",
   "name": "python3"
  },
  "language_info": {
   "codemirror_mode": {
    "name": "ipython",
    "version": 3
   },
   "file_extension": ".py",
   "mimetype": "text/x-python",
   "name": "python",
   "nbconvert_exporter": "python",
   "pygments_lexer": "ipython3",
   "version": "3.10.13"
  }
 },
 "nbformat": 4,
 "nbformat_minor": 5
}
