{
 "cells": [
  {
   "cell_type": "code",
   "execution_count": null,
   "id": "ad23a8fd-1255-4463-9527-51dd969a31cf",
   "metadata": {},
   "outputs": [],
   "source": [
    "## install required packages\n",
    "!pip install swig\n",
    "!pip install wrds\n",
    "!pip install pyportfolioopt\n",
    "## install finrl library\n",
    "!pip install git+https://github.com/AI4Finance-Foundation/FinRL.git"
   ]
  },
  {
   "cell_type": "code",
   "execution_count": 1,
   "id": "b22fcaf7-97c1-42d5-9044-c348ead6da8c",
   "metadata": {},
   "outputs": [],
   "source": [
    "import sys\n",
    "import pandas as pd\n",
    "import numpy as np\n",
    "import matplotlib.pyplot as plt\n",
    "\n",
    "from finrl.meta.preprocessor.yahoodownloader import YahooDownloader\n",
    "from finrl.meta.env_stock_trading.env_stocktrading import StockTradingEnv\n",
    "from finrl.agents.stablebaselines3.models import DRLAgent\n",
    "from stable_baselines3 import A2C, DDPG, PPO, SAC, TD3\n",
    "\n",
    "%matplotlib inline\n",
    "from finrl.config import INDICATORS"
   ]
  },
  {
   "cell_type": "code",
   "execution_count": 2,
   "id": "e754e1ec-0a66-4ddd-a1e8-feb3e392ede5",
   "metadata": {},
   "outputs": [],
   "source": [
    "train = pd.read_csv('train_data_ibovespa.csv')\n",
    "trade = pd.read_csv('trade_data_ibovespa.csv')\n",
    "\n",
    "# If you are not using the data generated from part 1 of this tutorial, make sure \n",
    "# it has the columns and index in the form that could be make into the environment. \n",
    "# Then you can comment and skip the following lines.\n",
    "train = train.set_index(train.columns[0])\n",
    "train.index.names = ['']\n",
    "trade = trade.set_index(trade.columns[0])\n",
    "trade.index.names = ['']"
   ]
  },
  {
   "cell_type": "code",
   "execution_count": 3,
   "id": "259917c3-571d-44a0-b6e0-96ce342b615c",
   "metadata": {},
   "outputs": [],
   "source": [
    "if_using_a2c = True\n",
    "if_using_ddpg = True\n",
    "if_using_ppo = True\n",
    "if_using_td3 = True\n",
    "if_using_sac = True"
   ]
  },
  {
   "cell_type": "code",
   "execution_count": 4,
   "id": "fd56caa1-8834-43ab-adfd-f86bf91c31b7",
   "metadata": {},
   "outputs": [
    {
     "name": "stderr",
     "output_type": "stream",
     "text": [
      "C:\\Users\\jefer\\anaconda3\\envs\\testes_finrl\\lib\\site-packages\\stable_baselines3\\common\\buffers.py:241: UserWarning: This system does not have apparently enough memory to store the complete replay buffer 3.80GB > 3.48GB\n",
      "  warnings.warn(\n",
      "C:\\Users\\jefer\\anaconda3\\envs\\testes_finrl\\lib\\site-packages\\stable_baselines3\\common\\buffers.py:241: UserWarning: This system does not have apparently enough memory to store the complete replay buffer 3.80GB > 3.45GB\n",
      "  warnings.warn(\n"
     ]
    }
   ],
   "source": [
    "trained_a2c = A2C.load(\"trained_models/agent_a2c\") if if_using_a2c else None\n",
    "trained_ddpg = DDPG.load(\"trained_models/agent_ddpg\") if if_using_ddpg else None\n",
    "trained_ppo = PPO.load(\"trained_models/agent_ppo\") if if_using_ppo else None\n",
    "trained_td3 = TD3.load(\"trained_models/agent_td3\") if if_using_td3 else None\n",
    "trained_sac = SAC.load(\"trained_models/agent_sac\") if if_using_sac else None"
   ]
  },
  {
   "cell_type": "code",
   "execution_count": 5,
   "id": "b3bf23b6-56cd-445d-8d85-f7d1da45ef8e",
   "metadata": {},
   "outputs": [],
   "source": [
    "#funcao para tratar os dados para passar para funcao quantstats\n",
    "def tratando_retornos(data,coluna):\n",
    "    net_worth = pd.Series(data[coluna].values, index=pd.to_datetime(data['date']))\n",
    "    returns = net_worth.pct_change().iloc[1:]\n",
    "    return returns"
   ]
  },
  {
   "cell_type": "code",
   "execution_count": 6,
   "id": "16de891b-9870-45eb-975e-c102087a68cb",
   "metadata": {},
   "outputs": [],
   "source": [
    "def tratando_retornos_mean(data,coluna):\n",
    "    net_worth = pd.Series(data[coluna].values, index=pd.to_datetime(data.index))\n",
    "    returns = net_worth.pct_change().iloc[1:]\n",
    "    return returns"
   ]
  },
  {
   "cell_type": "code",
   "execution_count": 7,
   "id": "bb290d60-b0e7-47a9-9071-bcb4ff65437e",
   "metadata": {},
   "outputs": [
    {
     "name": "stdout",
     "output_type": "stream",
     "text": [
      "Stock Dimension: 45, State Space: 451\n"
     ]
    }
   ],
   "source": [
    "stock_dimension = len(trade.tic.unique())\n",
    "state_space = 1 + 2*stock_dimension + len(INDICATORS)*stock_dimension\n",
    "print(f\"Stock Dimension: {stock_dimension}, State Space: {state_space}\")"
   ]
  },
  {
   "cell_type": "code",
   "execution_count": 9,
   "id": "cd48798d-3ce8-4d5a-bb5a-067fd899758a",
   "metadata": {},
   "outputs": [],
   "source": [
    "valor_inicial_carteira = 1000\n",
    "custo_trade = [0.01]\n",
    "taxa_aprendizagem = 0.01\n",
    "iteracao = 200000"
   ]
  },
  {
   "cell_type": "code",
   "execution_count": 10,
   "id": "ac23f602-c9c1-4dc2-9f4a-86948d6e255f",
   "metadata": {},
   "outputs": [],
   "source": [
    "buy_cost_list = sell_cost_list = custo_trade * stock_dimension\n",
    "num_stock_shares = [0] * stock_dimension\n",
    "\n",
    "env_kwargs = {\n",
    "    \"hmax\": 100,\n",
    "    \"initial_amount\": valor_inicial_carteira,\n",
    "    \"num_stock_shares\": num_stock_shares,\n",
    "    \"buy_cost_pct\": buy_cost_list,\n",
    "    \"sell_cost_pct\": sell_cost_list,\n",
    "    \"state_space\": state_space,\n",
    "    \"stock_dim\": stock_dimension,\n",
    "    \"tech_indicator_list\": INDICATORS,\n",
    "    \"action_space\": stock_dimension,\n",
    "    \"reward_scaling\": 1e-4\n",
    "}"
   ]
  },
  {
   "cell_type": "code",
   "execution_count": 11,
   "id": "32155eef-4100-4a3d-888d-3190068f6d8f",
   "metadata": {},
   "outputs": [],
   "source": [
    "e_trade_gym = StockTradingEnv(df = trade, turbulence_threshold = 70,risk_indicator_col='vix', **env_kwargs,make_plots=True)\n",
    "# env_trade, obs_trade = e_trade_gym.get_sb_env()"
   ]
  },
  {
   "cell_type": "code",
   "execution_count": 12,
   "id": "b9c3b4f9-ba92-43d2-896d-790864744be1",
   "metadata": {},
   "outputs": [
    {
     "name": "stdout",
     "output_type": "stream",
     "text": [
      "hit end!\n"
     ]
    }
   ],
   "source": [
    "df_account_value_a2c, df_actions_a2c = DRLAgent.DRL_prediction(\n",
    "    model=trained_a2c, \n",
    "    environment = e_trade_gym) if if_using_a2c else (None, None)"
   ]
  },
  {
   "cell_type": "code",
   "execution_count": 13,
   "id": "3faa3f49-fd65-4684-b7d8-0162a8e50823",
   "metadata": {},
   "outputs": [
    {
     "name": "stdout",
     "output_type": "stream",
     "text": [
      "hit end!\n"
     ]
    }
   ],
   "source": [
    "df_account_value_ppo, df_actions_ppo = DRLAgent.DRL_prediction(\n",
    "    model=trained_ppo, \n",
    "    environment = e_trade_gym) if if_using_ppo else (None, None)"
   ]
  },
  {
   "cell_type": "code",
   "execution_count": null,
   "id": "3a0936c5-cb4e-40d3-a0cb-ccaa854a7680",
   "metadata": {},
   "outputs": [],
   "source": []
  }
 ],
 "metadata": {
  "kernelspec": {
   "display_name": "Python 3 (ipykernel)",
   "language": "python",
   "name": "python3"
  },
  "language_info": {
   "codemirror_mode": {
    "name": "ipython",
    "version": 3
   },
   "file_extension": ".py",
   "mimetype": "text/x-python",
   "name": "python",
   "nbconvert_exporter": "python",
   "pygments_lexer": "ipython3",
   "version": "3.10.13"
  }
 },
 "nbformat": 4,
 "nbformat_minor": 5
}
